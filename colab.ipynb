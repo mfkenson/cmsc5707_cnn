{
  "nbformat": 4,
  "nbformat_minor": 0,
  "metadata": {
    "colab": {
      "name": "fastai.ipynb",
      "provenance": [],
      "authorship_tag": "ABX9TyO/Vs6KysOEK+U36R7ExcOB",
      "include_colab_link": true
    },
    "kernelspec": {
      "name": "python3",
      "display_name": "Python 3"
    },
    "accelerator": "GPU"
  },
  "cells": [
    {
      "cell_type": "markdown",
      "metadata": {
        "id": "view-in-github",
        "colab_type": "text"
      },
      "source": [
        "<a href=\"https://colab.research.google.com/github/mfkenson/cmsc5707_cnn/blob/main/colab.ipynb\" target=\"_parent\"><img src=\"https://colab.research.google.com/assets/colab-badge.svg\" alt=\"Open In Colab\"/></a>"
      ]
    },
    {
      "cell_type": "code",
      "metadata": {
        "id": "Nw185gr-a7qd"
      },
      "source": [
        "!pip install -U fastai librosa scikit-image"
      ],
      "execution_count": null,
      "outputs": []
    },
    {
      "cell_type": "code",
      "metadata": {
        "id": "Wspwdd8zbF4L"
      },
      "source": [
        "!wget https://github.com/mfkenson/cmsc5707_cnn/archive/main.zip && unzip main.zip"
      ],
      "execution_count": null,
      "outputs": []
    },
    {
      "cell_type": "code",
      "metadata": {
        "id": "Kk_lCIpwbWMX"
      },
      "source": [
        "!mv cmsc5707_cnn-main/spec_images_all .\n",
        "!mv cmsc5707_cnn-main/cnn_model.pkl .\n",
        "!mv cmsc5707_cnn-main/test_set_wav ."
      ],
      "execution_count": 3,
      "outputs": []
    },
    {
      "cell_type": "code",
      "metadata": {
        "id": "6rHz4ffUN8ES",
        "colab": {
          "base_uri": "https://localhost:8080/",
          "height": 51
        },
        "outputId": "bdce04f8-6d69-40a7-bab5-b907a1b7a1f5"
      },
      "source": [
        "import librosa\n",
        "import skimage.io\n",
        "import pathlib\n",
        "from fastai.vision.all import *\n",
        "\n",
        "\n",
        "def scale_minmax(X, min= 0.0, max=1.0):\n",
        "    X_std = (X - X.min()) / (X.max() - X.min())\n",
        "    X_scaled = X_std * (max - min) + min\n",
        "    return X_scaled\n",
        "\n",
        "\n",
        "def get_path_class(dat, filename):\n",
        "    excerpt = dat[dat['slice_file_name'] == filename]\n",
        "    path_name = os.path.join('UrbanSound8K/audio', 'fold' + str(excerpt.fold.values[0]), filename)\n",
        "    return path_name, excerpt['class'].values[0]\n",
        "\n",
        "\n",
        "def save_spectrogram_image(X, sr, out, hop_length=512, n_mels=256):\n",
        "    # use log-melspectrogram\n",
        "    mels = librosa.feature.melspectrogram(y=X, sr=sr, n_mels=n_mels, n_fft=hop_length * 2, hop_length=hop_length)\n",
        "    mels = np.log(mels + 1e-9)  # add small number to avoid log(0)\n",
        "    # min-max scale to fit inside 8-bit range\n",
        "    img = scale_minmax(mels, 0, 255).astype(np.uint8)\n",
        "    img = np.flip(img, axis=0)  # put low frequencies at the bottom in image\n",
        "    img = 255 - img  # invert. make black==more energy\n",
        "    skimage.io.imsave(out, img)\n",
        "\n",
        "\n",
        "def extract_feature():\n",
        "    data = pd.read_csv(\"UrbanSound8K/metadata/UrbanSound8K.csv\")\n",
        "    for i in range(data.shape[0]):\n",
        "        full_path, class_id = get_path_class(data, data.slice_file_name[i])\n",
        "        X, sample_rate = librosa.load(full_path, res_type='kaiser_fast')\n",
        "        out_path = 'spec_images_all/' + data.slice_file_name[i].replace(\".wav\", \".png\")\n",
        "        save_spectrogram_image(X, sr=sample_rate, out=out_path)\n",
        "\n",
        "\n",
        "def interpret_cnn(learner):\n",
        "    interp = ClassificationInterpretation.from_learner(learner)\n",
        "    # confusion matrix\n",
        "    interp.plot_confusion_matrix(figsize=(12, 12), dpi=60)\n",
        "    # most confused\n",
        "    interp.most_confused(min_val=5)\n",
        "\n",
        "\n",
        "def label_func(f):\n",
        "    return (f.split('-'))[1]\n",
        "\n",
        "\n",
        "def train_cnn():\n",
        "    path = pathlib.Path.cwd()\n",
        "    path = path / 'spec_images_all'\n",
        "    files = get_image_files(path)\n",
        "    dls = ImageDataLoaders.from_name_func(path, files, label_func, item_tfms=Resize(224), bs=64)\n",
        "    dls.show_batch()\n",
        "    learn_all = cnn_learner(dls, alexnet, metrics=error_rate, normalize=True, pretrained=False)\n",
        "    learn_all.fine_tune(100)\n",
        "    # save pkl\n",
        "    learn_all.export(os.path.abspath('./cnn_model.pkl'))\n",
        "    # interpret\n",
        "    interpret_cnn(learn_all)\n",
        "\n",
        "\n",
        "def inference_cnn(file_path):\n",
        "    label_lookup = ['air_conditioner', 'car_horn', 'children_playing', 'dog_bark', 'drilling',\n",
        "                    'enginge_idling', 'gun_shot', 'jackhammer', 'siren', 'street_music']\n",
        "    learner = load_learner('cnn_model.pkl')\n",
        "    print('Incoming file:', file_path)\n",
        "    if file_path.lower().endswith('.wav'):\n",
        "        #encoded in png\n",
        "        X, sample_rate = librosa.load(file_path, res_type='kaiser_fast')\n",
        "        out_path = 'tmp.png'\n",
        "        save_spectrogram_image(X, sr=sample_rate, out=out_path)\n",
        "        file_path = out_path\n",
        "    class_id, _, _ = learner.predict(file_path)\n",
        "    print('Predicted Class Label:', label_lookup[int(class_id)])\n",
        "\n",
        "\n",
        "if __name__ == '__main__':\n",
        "    # PROGRAM_MODE = 'EXTRACT_FEATURE'\n",
        "    # PROGRAM_MODE = 'TRAIN_CNN'\n",
        "    PROGRAM_MODE = 'INFERENCE_CNN'\n",
        "\n",
        "    #INFERENCE_FILE_PATH = 'spec_images_all/518-4-0-0.png' #taken from original dataset\n",
        "    INFERENCE_FILE_PATH = 'test_set_wav/labrador-barking-daniel_simon.wav' #from internet\n",
        "    #INFERENCE_FILE_PATH = 'test_set_wav/gun_battle_sound-ReamProductions-1158375208.wav'#from internet\n",
        "    if PROGRAM_MODE == 'EXTRACT_FEATURE':\n",
        "        extract_feature()\n",
        "    elif PROGRAM_MODE == 'TRAIN_CNN':\n",
        "        train_cnn()\n",
        "    elif PROGRAM_MODE == 'INFERENCE_CNN':\n",
        "        inference_cnn(INFERENCE_FILE_PATH)\n"
      ],
      "execution_count": 4,
      "outputs": [
        {
          "output_type": "stream",
          "text": [
            "Incoming file: test_set_wav/labrador-barking-daniel_simon.wav\n"
          ],
          "name": "stdout"
        },
        {
          "output_type": "display_data",
          "data": {
            "text/html": [
              ""
            ],
            "text/plain": [
              "<IPython.core.display.HTML object>"
            ]
          },
          "metadata": {
            "tags": []
          }
        },
        {
          "output_type": "stream",
          "text": [
            "Predicted Class Label: dog_bark\n"
          ],
          "name": "stdout"
        }
      ]
    },
    {
      "cell_type": "code",
      "metadata": {
        "id": "ubpecd5lbppF"
      },
      "source": [
        ""
      ],
      "execution_count": null,
      "outputs": []
    }
  ]
}